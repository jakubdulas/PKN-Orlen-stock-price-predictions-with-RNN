{
 "cells": [
  {
   "attachments": {},
   "cell_type": "markdown",
   "metadata": {},
   "source": [
    "## Data Preprocessing"
   ]
  },
  {
   "attachments": {},
   "cell_type": "markdown",
   "metadata": {},
   "source": [
    "### Installing the libraries"
   ]
  },
  {
   "cell_type": "code",
   "execution_count": 69,
   "metadata": {},
   "outputs": [],
   "source": [
    "import numpy as np\n",
    "import pandas as pd\n",
    "import matplotlib.pyplot as plt"
   ]
  },
  {
   "attachments": {},
   "cell_type": "markdown",
   "metadata": {},
   "source": [
    "### Getting training data"
   ]
  },
  {
   "cell_type": "code",
   "execution_count": 70,
   "metadata": {},
   "outputs": [
    {
     "data": {
      "text/html": [
       "<div>\n",
       "<style scoped>\n",
       "    .dataframe tbody tr th:only-of-type {\n",
       "        vertical-align: middle;\n",
       "    }\n",
       "\n",
       "    .dataframe tbody tr th {\n",
       "        vertical-align: top;\n",
       "    }\n",
       "\n",
       "    .dataframe thead th {\n",
       "        text-align: right;\n",
       "    }\n",
       "</style>\n",
       "<table border=\"1\" class=\"dataframe\">\n",
       "  <thead>\n",
       "    <tr style=\"text-align: right;\">\n",
       "      <th></th>\n",
       "      <th>&lt;TICKER&gt;</th>\n",
       "      <th>&lt;PER&gt;</th>\n",
       "      <th>&lt;DATE&gt;</th>\n",
       "      <th>&lt;TIME&gt;</th>\n",
       "      <th>&lt;OPEN&gt;</th>\n",
       "      <th>&lt;HIGH&gt;</th>\n",
       "      <th>&lt;LOW&gt;</th>\n",
       "      <th>&lt;CLOSE&gt;</th>\n",
       "      <th>&lt;VOL&gt;</th>\n",
       "      <th>&lt;OPENINT&gt;</th>\n",
       "    </tr>\n",
       "  </thead>\n",
       "  <tbody>\n",
       "    <tr>\n",
       "      <th>0</th>\n",
       "      <td>PKN</td>\n",
       "      <td>D</td>\n",
       "      <td>19991126</td>\n",
       "      <td>0</td>\n",
       "      <td>14.5689</td>\n",
       "      <td>14.6977</td>\n",
       "      <td>14.0412</td>\n",
       "      <td>14.4983</td>\n",
       "      <td>1.661789e+07</td>\n",
       "      <td>0</td>\n",
       "    </tr>\n",
       "    <tr>\n",
       "      <th>1</th>\n",
       "      <td>PKN</td>\n",
       "      <td>D</td>\n",
       "      <td>19991129</td>\n",
       "      <td>0</td>\n",
       "      <td>14.4315</td>\n",
       "      <td>14.4983</td>\n",
       "      <td>14.1720</td>\n",
       "      <td>14.2397</td>\n",
       "      <td>5.763073e+06</td>\n",
       "      <td>0</td>\n",
       "    </tr>\n",
       "    <tr>\n",
       "      <th>2</th>\n",
       "      <td>PKN</td>\n",
       "      <td>D</td>\n",
       "      <td>19991130</td>\n",
       "      <td>0</td>\n",
       "      <td>14.3704</td>\n",
       "      <td>14.6281</td>\n",
       "      <td>14.3704</td>\n",
       "      <td>14.4983</td>\n",
       "      <td>3.444817e+06</td>\n",
       "      <td>0</td>\n",
       "    </tr>\n",
       "    <tr>\n",
       "      <th>3</th>\n",
       "      <td>PKN</td>\n",
       "      <td>D</td>\n",
       "      <td>19991201</td>\n",
       "      <td>0</td>\n",
       "      <td>14.6281</td>\n",
       "      <td>14.9563</td>\n",
       "      <td>14.4983</td>\n",
       "      <td>14.9563</td>\n",
       "      <td>3.225432e+06</td>\n",
       "      <td>0</td>\n",
       "    </tr>\n",
       "    <tr>\n",
       "      <th>4</th>\n",
       "      <td>PKN</td>\n",
       "      <td>D</td>\n",
       "      <td>19991202</td>\n",
       "      <td>0</td>\n",
       "      <td>15.0937</td>\n",
       "      <td>15.5508</td>\n",
       "      <td>15.0241</td>\n",
       "      <td>15.2235</td>\n",
       "      <td>3.462556e+06</td>\n",
       "      <td>0</td>\n",
       "    </tr>\n",
       "    <tr>\n",
       "      <th>5</th>\n",
       "      <td>PKN</td>\n",
       "      <td>D</td>\n",
       "      <td>19991203</td>\n",
       "      <td>0</td>\n",
       "      <td>15.2235</td>\n",
       "      <td>15.4821</td>\n",
       "      <td>15.0937</td>\n",
       "      <td>15.4191</td>\n",
       "      <td>2.471058e+06</td>\n",
       "      <td>0</td>\n",
       "    </tr>\n",
       "    <tr>\n",
       "      <th>6</th>\n",
       "      <td>PKN</td>\n",
       "      <td>D</td>\n",
       "      <td>19991206</td>\n",
       "      <td>0</td>\n",
       "      <td>15.5508</td>\n",
       "      <td>16.0756</td>\n",
       "      <td>15.5508</td>\n",
       "      <td>16.0079</td>\n",
       "      <td>3.149244e+06</td>\n",
       "      <td>0</td>\n",
       "    </tr>\n",
       "    <tr>\n",
       "      <th>7</th>\n",
       "      <td>PKN</td>\n",
       "      <td>D</td>\n",
       "      <td>19991207</td>\n",
       "      <td>0</td>\n",
       "      <td>15.9458</td>\n",
       "      <td>16.0079</td>\n",
       "      <td>15.7474</td>\n",
       "      <td>15.7474</td>\n",
       "      <td>2.542669e+06</td>\n",
       "      <td>0</td>\n",
       "    </tr>\n",
       "    <tr>\n",
       "      <th>8</th>\n",
       "      <td>PKN</td>\n",
       "      <td>D</td>\n",
       "      <td>19991208</td>\n",
       "      <td>0</td>\n",
       "      <td>15.7474</td>\n",
       "      <td>16.1367</td>\n",
       "      <td>15.7474</td>\n",
       "      <td>15.8771</td>\n",
       "      <td>3.990032e+06</td>\n",
       "      <td>0</td>\n",
       "    </tr>\n",
       "    <tr>\n",
       "      <th>9</th>\n",
       "      <td>PKN</td>\n",
       "      <td>D</td>\n",
       "      <td>19991209</td>\n",
       "      <td>0</td>\n",
       "      <td>15.8771</td>\n",
       "      <td>15.8771</td>\n",
       "      <td>15.4821</td>\n",
       "      <td>15.7474</td>\n",
       "      <td>2.634010e+06</td>\n",
       "      <td>0</td>\n",
       "    </tr>\n",
       "  </tbody>\n",
       "</table>\n",
       "</div>"
      ],
      "text/plain": [
       "  <TICKER> <PER>    <DATE>  <TIME>   <OPEN>   <HIGH>    <LOW>  <CLOSE>  \\\n",
       "0      PKN     D  19991126       0  14.5689  14.6977  14.0412  14.4983   \n",
       "1      PKN     D  19991129       0  14.4315  14.4983  14.1720  14.2397   \n",
       "2      PKN     D  19991130       0  14.3704  14.6281  14.3704  14.4983   \n",
       "3      PKN     D  19991201       0  14.6281  14.9563  14.4983  14.9563   \n",
       "4      PKN     D  19991202       0  15.0937  15.5508  15.0241  15.2235   \n",
       "5      PKN     D  19991203       0  15.2235  15.4821  15.0937  15.4191   \n",
       "6      PKN     D  19991206       0  15.5508  16.0756  15.5508  16.0079   \n",
       "7      PKN     D  19991207       0  15.9458  16.0079  15.7474  15.7474   \n",
       "8      PKN     D  19991208       0  15.7474  16.1367  15.7474  15.8771   \n",
       "9      PKN     D  19991209       0  15.8771  15.8771  15.4821  15.7474   \n",
       "\n",
       "          <VOL>  <OPENINT>  \n",
       "0  1.661789e+07          0  \n",
       "1  5.763073e+06          0  \n",
       "2  3.444817e+06          0  \n",
       "3  3.225432e+06          0  \n",
       "4  3.462556e+06          0  \n",
       "5  2.471058e+06          0  \n",
       "6  3.149244e+06          0  \n",
       "7  2.542669e+06          0  \n",
       "8  3.990032e+06          0  \n",
       "9  2.634010e+06          0  "
      ]
     },
     "execution_count": 70,
     "metadata": {},
     "output_type": "execute_result"
    }
   ],
   "source": [
    "dataset_pkn = pd.read_csv('pkn.txt', sep=\",\")\n",
    "dataset_pkn.head(10)"
   ]
  },
  {
   "cell_type": "code",
   "execution_count": 71,
   "metadata": {},
   "outputs": [],
   "source": [
    "pkn_stock_price = dataset_pkn.iloc[:, 4:5]"
   ]
  },
  {
   "attachments": {},
   "cell_type": "markdown",
   "metadata": {},
   "source": [
    "### Spliting the dataset into the training set and the testing set"
   ]
  },
  {
   "cell_type": "code",
   "execution_count": 72,
   "metadata": {},
   "outputs": [],
   "source": [
    "t = len(pkn_stock_price.values)\n",
    "training_set, testing_set = pkn_stock_price.values[0:int(t*0.8)], pkn_stock_price.values[int(0.8*t):]"
   ]
  },
  {
   "attachments": {},
   "cell_type": "markdown",
   "metadata": {},
   "source": [
    "### Normalizing data"
   ]
  },
  {
   "cell_type": "code",
   "execution_count": 73,
   "metadata": {},
   "outputs": [],
   "source": [
    "from sklearn.preprocessing import MinMaxScaler\n",
    "\n",
    "sc = MinMaxScaler()\n",
    "training_set = sc.fit_transform(training_set)\n",
    "testing_set = sc.transform(testing_set)"
   ]
  },
  {
   "cell_type": "code",
   "execution_count": 74,
   "metadata": {},
   "outputs": [],
   "source": [
    "X_train = []\n",
    "y_train = []\n",
    "\n",
    "for i in range(100, len(training_set)):\n",
    "    X_train.append(training_set[i-100:i])\n",
    "    y_train.append(training_set[i])\n",
    "\n",
    "X_train = np.array(X_train)\n",
    "y_train =  np.array(y_train)"
   ]
  },
  {
   "cell_type": "code",
   "execution_count": 75,
   "metadata": {},
   "outputs": [],
   "source": [
    "X_test = []\n",
    "y_test = []\n",
    "\n",
    "total_set = np.concatenate((training_set, testing_set))\n",
    "\n",
    "for i in range(len(training_set), len(total_set)):\n",
    "    X_test.append(total_set[i-100:i])\n",
    "    y_test.append(total_set[i])\n",
    "\n",
    "X_test = np.array(X_test)\n",
    "y_test =  np.array(y_test)"
   ]
  },
  {
   "cell_type": "markdown",
   "metadata": {},
   "source": [
    "## RNN"
   ]
  },
  {
   "cell_type": "code",
   "execution_count": 76,
   "metadata": {},
   "outputs": [],
   "source": [
    "from keras.models import Sequential\n",
    "from keras.layers import Dense, LSTM, Dropout, Conv1D"
   ]
  },
  {
   "cell_type": "code",
   "execution_count": 77,
   "metadata": {},
   "outputs": [],
   "source": [
    "regressor = Sequential()\n",
    "\n",
    "regressor.add(LSTM(units=75, return_sequences=True, input_shape=(X_train.shape[1], 1)))\n",
    "regressor.add(Conv1D(75, 10, activation='tanh'))\n",
    "regressor.add(Dropout(0.2))\n",
    "regressor.add(LSTM(units=75, return_sequences=True))\n",
    "regressor.add(Conv1D(75, 10, activation='tanh'))\n",
    "regressor.add(Dropout(0.2))\n",
    "regressor.add(LSTM(units=75, return_sequences=True))\n",
    "regressor.add(Conv1D(75, 10, activation='tanh'))\n",
    "regressor.add(Dropout(0.2))\n",
    "regressor.add(LSTM(units=75))\n",
    "regressor.add(Dropout(0.2))\n",
    "regressor.add(Dense(units=1))"
   ]
  },
  {
   "cell_type": "code",
   "execution_count": 78,
   "metadata": {},
   "outputs": [],
   "source": [
    "regressor.compile(loss='mse', optimizer='adam')"
   ]
  },
  {
   "cell_type": "code",
   "execution_count": 79,
   "metadata": {},
   "outputs": [
    {
     "name": "stdout",
     "output_type": "stream",
     "text": [
      "Epoch 1/50\n"
     ]
    },
    {
     "name": "stderr",
     "output_type": "stream",
     "text": [
      "2023-02-20 13:08:37.836460: I tensorflow/core/grappler/optimizers/custom_graph_optimizer_registry.cc:114] Plugin optimizer for device_type GPU is enabled.\n",
      "2023-02-20 13:08:38.236076: I tensorflow/core/grappler/optimizers/custom_graph_optimizer_registry.cc:114] Plugin optimizer for device_type GPU is enabled.\n",
      "2023-02-20 13:08:38.362821: I tensorflow/core/grappler/optimizers/custom_graph_optimizer_registry.cc:114] Plugin optimizer for device_type GPU is enabled.\n",
      "2023-02-20 13:08:38.488037: I tensorflow/core/grappler/optimizers/custom_graph_optimizer_registry.cc:114] Plugin optimizer for device_type GPU is enabled.\n",
      "2023-02-20 13:08:38.599262: I tensorflow/core/grappler/optimizers/custom_graph_optimizer_registry.cc:114] Plugin optimizer for device_type GPU is enabled.\n",
      "2023-02-20 13:08:38.719290: I tensorflow/core/grappler/optimizers/custom_graph_optimizer_registry.cc:114] Plugin optimizer for device_type GPU is enabled.\n",
      "2023-02-20 13:08:38.892067: I tensorflow/core/grappler/optimizers/custom_graph_optimizer_registry.cc:114] Plugin optimizer for device_type GPU is enabled.\n",
      "2023-02-20 13:08:39.088775: I tensorflow/core/grappler/optimizers/custom_graph_optimizer_registry.cc:114] Plugin optimizer for device_type GPU is enabled.\n",
      "2023-02-20 13:08:39.301499: I tensorflow/core/grappler/optimizers/custom_graph_optimizer_registry.cc:114] Plugin optimizer for device_type GPU is enabled.\n"
     ]
    },
    {
     "name": "stdout",
     "output_type": "stream",
     "text": [
      "143/143 [==============================] - 16s 79ms/step - loss: 0.0048\n",
      "Epoch 2/50\n",
      "143/143 [==============================] - 10s 73ms/step - loss: 0.0016\n",
      "Epoch 3/50\n",
      "143/143 [==============================] - 10s 71ms/step - loss: 0.0011\n",
      "Epoch 4/50\n",
      "143/143 [==============================] - 10s 70ms/step - loss: 9.6688e-04\n",
      "Epoch 5/50\n",
      "143/143 [==============================] - 10s 70ms/step - loss: 9.4102e-04\n",
      "Epoch 6/50\n",
      "143/143 [==============================] - 10s 70ms/step - loss: 6.3411e-04\n",
      "Epoch 7/50\n",
      "143/143 [==============================] - 10s 70ms/step - loss: 5.9805e-04\n",
      "Epoch 8/50\n",
      "143/143 [==============================] - 10s 69ms/step - loss: 6.4264e-04\n",
      "Epoch 9/50\n",
      "143/143 [==============================] - 10s 70ms/step - loss: 4.8165e-04\n",
      "Epoch 10/50\n",
      "143/143 [==============================] - 10s 70ms/step - loss: 5.1838e-04\n",
      "Epoch 11/50\n",
      "143/143 [==============================] - 10s 71ms/step - loss: 6.1887e-04\n",
      "Epoch 12/50\n",
      "143/143 [==============================] - 11s 74ms/step - loss: 4.7510e-04\n",
      "Epoch 13/50\n",
      "143/143 [==============================] - 10s 71ms/step - loss: 4.9305e-04\n",
      "Epoch 14/50\n",
      "143/143 [==============================] - 10s 71ms/step - loss: 4.1100e-04\n",
      "Epoch 15/50\n",
      "143/143 [==============================] - 10s 73ms/step - loss: 5.5738e-04\n",
      "Epoch 16/50\n",
      "143/143 [==============================] - 10s 71ms/step - loss: 3.7293e-04\n",
      "Epoch 17/50\n",
      "143/143 [==============================] - 10s 73ms/step - loss: 3.0270e-04\n",
      "Epoch 18/50\n",
      "143/143 [==============================] - 10s 73ms/step - loss: 3.0921e-04\n",
      "Epoch 19/50\n",
      "143/143 [==============================] - 10s 71ms/step - loss: 3.5785e-04\n",
      "Epoch 20/50\n",
      "143/143 [==============================] - 10s 73ms/step - loss: 3.2996e-04\n",
      "Epoch 21/50\n",
      "143/143 [==============================] - 10s 70ms/step - loss: 2.9557e-04\n",
      "Epoch 22/50\n",
      "143/143 [==============================] - 10s 70ms/step - loss: 4.2749e-04\n",
      "Epoch 23/50\n",
      "143/143 [==============================] - 10s 73ms/step - loss: 2.7306e-04\n",
      "Epoch 24/50\n",
      "143/143 [==============================] - 10s 72ms/step - loss: 2.5848e-04\n",
      "Epoch 25/50\n",
      "143/143 [==============================] - 10s 71ms/step - loss: 3.5508e-04\n",
      "Epoch 26/50\n",
      "143/143 [==============================] - 10s 71ms/step - loss: 2.5121e-04\n",
      "Epoch 27/50\n",
      "143/143 [==============================] - 10s 71ms/step - loss: 3.3442e-04\n",
      "Epoch 28/50\n",
      "143/143 [==============================] - 10s 71ms/step - loss: 2.0184e-04\n",
      "Epoch 29/50\n",
      "143/143 [==============================] - 10s 71ms/step - loss: 4.0815e-04\n",
      "Epoch 30/50\n",
      "143/143 [==============================] - 10s 71ms/step - loss: 3.3780e-04\n",
      "Epoch 31/50\n",
      "143/143 [==============================] - 10s 71ms/step - loss: 2.5678e-04\n",
      "Epoch 32/50\n",
      "143/143 [==============================] - 10s 71ms/step - loss: 2.6786e-04\n",
      "Epoch 33/50\n",
      "143/143 [==============================] - 10s 71ms/step - loss: 2.3031e-04\n",
      "Epoch 34/50\n",
      "143/143 [==============================] - 10s 71ms/step - loss: 1.7973e-04\n",
      "Epoch 35/50\n",
      "143/143 [==============================] - 10s 72ms/step - loss: 1.7444e-04\n",
      "Epoch 36/50\n",
      "143/143 [==============================] - 10s 71ms/step - loss: 1.3787e-04\n",
      "Epoch 37/50\n",
      "143/143 [==============================] - 10s 71ms/step - loss: 1.5581e-04\n",
      "Epoch 38/50\n",
      "143/143 [==============================] - 10s 71ms/step - loss: 1.5792e-04\n",
      "Epoch 39/50\n",
      "143/143 [==============================] - 10s 71ms/step - loss: 2.0432e-04\n",
      "Epoch 40/50\n",
      "143/143 [==============================] - 10s 71ms/step - loss: 1.7259e-04\n",
      "Epoch 41/50\n",
      "143/143 [==============================] - 10s 71ms/step - loss: 2.3016e-04\n",
      "Epoch 42/50\n",
      "143/143 [==============================] - 10s 71ms/step - loss: 2.3916e-04\n",
      "Epoch 43/50\n",
      "143/143 [==============================] - 10s 72ms/step - loss: 1.6233e-04\n",
      "Epoch 44/50\n",
      "143/143 [==============================] - 10s 72ms/step - loss: 1.6122e-04\n",
      "Epoch 45/50\n",
      "143/143 [==============================] - 10s 72ms/step - loss: 2.4252e-04\n",
      "Epoch 46/50\n",
      "143/143 [==============================] - 10s 72ms/step - loss: 2.2717e-04\n",
      "Epoch 47/50\n",
      "143/143 [==============================] - 10s 72ms/step - loss: 2.3720e-04\n",
      "Epoch 48/50\n",
      "143/143 [==============================] - 10s 72ms/step - loss: 1.4914e-04\n",
      "Epoch 49/50\n",
      "143/143 [==============================] - 10s 72ms/step - loss: 1.3855e-04\n",
      "Epoch 50/50\n",
      "143/143 [==============================] - 10s 72ms/step - loss: 1.1533e-04\n"
     ]
    }
   ],
   "source": [
    "hist = regressor.fit(X_train, y_train, epochs=50)"
   ]
  },
  {
   "attachments": {},
   "cell_type": "markdown",
   "metadata": {},
   "source": [
    "### Visualisation of the training process"
   ]
  },
  {
   "cell_type": "code",
   "execution_count": 80,
   "metadata": {},
   "outputs": [
    {
     "data": {
      "image/png": "[encoded data removed]",
      "text/plain": [
       "<Figure size 640x480 with 1 Axes>"
      ]
     },
     "metadata": {},
     "output_type": "display_data"
    }
   ],
   "source": [
    "plt.plot(hist.history['loss'], label=\"loss\", color='red')\n",
    "plt.title('Loss vs epochs')\n",
    "plt.legend()\n",
    "plt.show()"
   ]
  },
  {
   "attachments": {},
   "cell_type": "markdown",
   "metadata": {},
   "source": [
    "## Predictions"
   ]
  },
  {
   "cell_type": "code",
   "execution_count": 83,
   "metadata": {},
   "outputs": [
    {
     "name": "stdout",
     "output_type": "stream",
     "text": [
      "37/37 [==============================] - 1s 39ms/step\n"
     ]
    }
   ],
   "source": [
    "predicted_stock_price = regressor.predict(X_test)\n",
    "predicted_stock_price = sc.inverse_transform(predicted_stock_price)\n",
    "real_stock_price = sc.inverse_transform(y_test)"
   ]
  },
  {
   "cell_type": "code",
   "execution_count": 84,
   "metadata": {},
   "outputs": [
    {
     "data": {
      "image/png": "[encoded data removed]",
      "text/plain": [
       "<Figure size 640x480 with 1 Axes>"
      ]
     },
     "metadata": {},
     "output_type": "display_data"
    }
   ],
   "source": [
    "plt.plot(real_stock_price, label=\"Real Stock Price\", color='red')\n",
    "plt.plot(predicted_stock_price, label=\"Predicted Stock Price\", color='blue')\n",
    "plt.title('Predicted PGN Stock Price')\n",
    "plt.legend()\n",
    "plt.show()"
   ]
  },
  {
   "cell_type": "code",
   "execution_count": null,
   "metadata": {},
   "outputs": [],
   "source": []
  }
 ],
 "metadata": {
  "kernelspec": {
   "display_name": "ml",
   "language": "python",
   "name": "python3"
  },
  "language_info": {
   "codemirror_mode": {
    "name": "ipython",
    "version": 3
   },
   "file_extension": ".py",
   "mimetype": "text/x-python",
   "name": "python",
   "nbconvert_exporter": "python",
   "pygments_lexer": "ipython3",
   "version": "3.9.13"
  },
  "orig_nbformat": 4,
  "vscode": {
   "interpreter": {
    "hash": "31d7989649452b8ff5b252a3e34caf45e4ffd8a5787fe28fc2ce0245f11b7782"
   }
  }
 },
 "nbformat": 4,
 "nbformat_minor": 2
}
